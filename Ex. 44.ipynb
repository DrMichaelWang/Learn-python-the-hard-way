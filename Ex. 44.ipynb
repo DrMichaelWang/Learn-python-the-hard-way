{
 "cells": [
  {
   "cell_type": "code",
   "execution_count": 1,
   "metadata": {
    "collapsed": true
   },
   "outputs": [],
   "source": [
    "## Inheritance"
   ]
  },
  {
   "cell_type": "code",
   "execution_count": 2,
   "metadata": {
    "collapsed": false
   },
   "outputs": [
    {
     "name": "stdout",
     "output_type": "stream",
     "text": [
      "PARENT implicit()\n",
      "PARENT implicit()\n",
      "PARENT override()\n",
      "CHILD override()\n",
      "PARENT altered()\n",
      "CHILD, BEFORE PARENT altered()\n",
      "PARENT altered()\n",
      "CHILD, AFTER PARENT altered()\n"
     ]
    }
   ],
   "source": [
    "class Parent(object):\n",
    "    \n",
    "    def override(self):\n",
    "        print \"PARENT override()\"\n",
    "        \n",
    "    def implicit(self):\n",
    "        print \"PARENT implicit()\"\n",
    "        \n",
    "    def altered(self):\n",
    "        print \"PARENT altered()\"\n",
    "        \n",
    "class Child(Parent):\n",
    "    \n",
    "    def override(self):\n",
    "        print \"CHILD override()\"\n",
    "        \n",
    "    def altered(self):\n",
    "        print \"CHILD, BEFORE PARENT altered()\"\n",
    "        super(Child, self).altered()\n",
    "        print \"CHILD, AFTER PARENT altered()\"\n",
    "        \n",
    "dad = Parent()\n",
    "son = Child()\n",
    "\n",
    "dad.implicit()\n",
    "son.implicit()\n",
    "\n",
    "dad.override()\n",
    "son.override()\n",
    "\n",
    "dad.altered()\n",
    "son.altered()"
   ]
  },
  {
   "cell_type": "code",
   "execution_count": 3,
   "metadata": {
    "collapsed": true
   },
   "outputs": [],
   "source": [
    "## Composition"
   ]
  },
  {
   "cell_type": "code",
   "execution_count": 4,
   "metadata": {
    "collapsed": false
   },
   "outputs": [
    {
     "name": "stdout",
     "output_type": "stream",
     "text": [
      "OTHER implicit()\n",
      "CHILD override()\n",
      "CHILD, BEFORE OTHER altered()\n",
      "OTHER altered()\n",
      "CHILD, AFTER OTHER altered()\n"
     ]
    }
   ],
   "source": [
    "class Other(object):\n",
    "    \n",
    "    def override(self):\n",
    "        print \"OTHER override()\"\n",
    "        \n",
    "    def implicit(self):\n",
    "        print \"OTHER implicit()\"\n",
    "        \n",
    "    def altered(self):\n",
    "        print \"OTHER altered()\"\n",
    "        \n",
    "class Child(object):\n",
    "    \n",
    "    def __init__(self):\n",
    "        self.other = Other()\n",
    "        \n",
    "    def implicit(self):\n",
    "        self.other.implicit()\n",
    "        \n",
    "    def override(self):\n",
    "        print \"CHILD override()\"\n",
    "        \n",
    "    def altered(self):\n",
    "        print \"CHILD, BEFORE OTHER altered()\"\n",
    "        self.other.altered()\n",
    "        # super(Child, self).altered()\n",
    "        print \"CHILD, AFTER OTHER altered()\"\n",
    "        \n",
    "son = Child()\n",
    "\n",
    "son.implicit()\n",
    "son.override()\n",
    "son.altered()"
   ]
  },
  {
   "cell_type": "code",
   "execution_count": null,
   "metadata": {
    "collapsed": true
   },
   "outputs": [],
   "source": []
  }
 ],
 "metadata": {
  "kernelspec": {
   "display_name": "Python [default]",
   "language": "python",
   "name": "python2"
  },
  "language_info": {
   "codemirror_mode": {
    "name": "ipython",
    "version": 2
   },
   "file_extension": ".py",
   "mimetype": "text/x-python",
   "name": "python",
   "nbconvert_exporter": "python",
   "pygments_lexer": "ipython2",
   "version": "2.7.12"
  }
 },
 "nbformat": 4,
 "nbformat_minor": 1
}
