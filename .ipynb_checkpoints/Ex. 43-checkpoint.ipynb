{
 "cells": [
  {
   "cell_type": "code",
   "execution_count": 4,
   "metadata": {
    "collapsed": true
   },
   "outputs": [],
   "source": [
    "from sys import exit\n",
    "from random import randint"
   ]
  },
  {
   "cell_type": "code",
   "execution_count": 1,
   "metadata": {
    "collapsed": true
   },
   "outputs": [],
   "source": [
    "class Scene(object):\n",
    "    \n",
    "    def enter(self):\n",
    "        print \"This scene is not yet configured. Subclass it and implement enter().\"\n",
    "            exit(1)\n",
    "\n",
    "class Engine(object):\n",
    "    \n",
    "    def __init__(self, scene_map):\n",
    "        self.scene_map = scene_map\n",
    "    \n",
    "    def play(self):\n",
    "        current_scene = self.scene_map.opening_scene()\n",
    "        \n",
    "        while True:\n",
    "            print \"\\n--------\"\n",
    "            next_scene_name = current_scene.enter()\n",
    "            current_scene = self.scene_map.next_scene(next_scene_name)\n",
    "    \n",
    "class Death(Scene):\n",
    "    \n",
    "    quips = [\n",
    "        \"You died.  You kinda suck at this.\",\n",
    "        \"YOur mom would be proud... if she were smarter.\",\n",
    "        'Such a luser.',\n",
    "        \"I have a small puppy that's better at this.\"\n",
    "    ]\n",
    "    \n",
    "    \n",
    "    def enter(self):\n",
    "        print Death.quips[randint(0, len(self.quips)-1)]\n",
    "        exit(1)\n",
    "    \n",
    "class CentralCorridor(Scene):\n",
    "    \n",
    "    def enter(self):\n",
    "        print \"The Gothons of Planet Percal #25 have invaded your ship...\"\n",
    "        \n",
    "        action = raw_input(\"> \")\n",
    "        \n",
    "        if action == \"shoot!\":\n",
    "            print \"Quick on the draw you yank out your blaster and fire it at the Gothon....\"\n",
    "            return 'death'\n",
    "        elif action == \"dodge!\":\n",
    "            print \"Like a world class boxer you dodge, weave, slip and slide right...\"\n",
    "            return 'death'\n",
    "        elif action == \"tell a joke\":\n",
    "            print \"Lucky for you they made you learn Gothon insults in the academy....\"\n",
    "            return 'laser_weapon_armory'\n",
    "        else:\n",
    "            print \"DOES NOT COMPUTE!\"\n",
    "            return 'central_corridor'\n",
    "        \n",
    "class LaserWeaponArmory(Scene):\n",
    "    \n",
    "    def enter(self):\n",
    "        print \"You do a dive roll into the Weapon Armory, crouch and scan the room....\"\n",
    "        code = \"%d%d%d\" % (randint(1,9), randint(1,9), randint(1,9))\n",
    "        guess = raw_input(\"[keypad]> \")\n",
    "        guesses = 0\n",
    "        \n",
    "        while guess != code and guesses < 10:\n",
    "            print \"BZZZZEDDD!\"\n",
    "            guesses += 1\n",
    "            guesses = raw_input(\"[keypad]> \")\n",
    "            \n",
    "        if guess == code:\n",
    "            print \"The container clicks open and the seal breaks, letting gas out....\"\n",
    "            return 'the_bridge'\n",
    "        else:\n",
    "            print \"The lock buzzes one last time and then you hear a sickening....\"\n",
    "            return 'death'\n",
    "        \n",
    "        \n",
    "    \n",
    "class TheBridge(Scene):\n",
    "    \n",
    "    def enter(self):\n",
    "        print \"You burst onto the Bridge with the neutron destruct bomb....\"\n",
    "        \n",
    "        action = raw_input(\"> \")\n",
    "        \n",
    "        if action == \"throw the bomb\":\n",
    "            print \"In a panic you throw the bomb at the group of Gothons....\"\n",
    "            return 'death'\n",
    "        elif action == \"slowly place the bomb\":\n",
    "            print \"You point your blaster at the bomb under your arm....\"\n",
    "            return 'escape_pod'\n",
    "        else:\n",
    "            print \"DOES NOT COMPUTE!\"\n",
    "            return \"the_bridge\"\n",
    "        \n",
    "            \n",
    "class EscapePod(Scene):\n",
    "    \n",
    "    def enter(self):\n",
    "        pass\n",
    "    \n",
    "class Map(object):\n",
    "    \n",
    "    def __init__(self, start_scene):\n",
    "        pass\n",
    "    \n",
    "    def next_scene(self, scene_name):\n",
    "        pass\n",
    "    \n",
    "    def opening_scene(self):\n",
    "        pass\n",
    "    \n",
    "a_map = Map('central_corridor')"
   ]
  },
  {
   "cell_type": "code",
   "execution_count": 2,
   "metadata": {
    "collapsed": true
   },
   "outputs": [],
   "source": [
    "a_game = Engine(a_map)"
   ]
  },
  {
   "cell_type": "code",
   "execution_count": 3,
   "metadata": {
    "collapsed": true
   },
   "outputs": [],
   "source": [
    "a_game.play()"
   ]
  },
  {
   "cell_type": "code",
   "execution_count": null,
   "metadata": {
    "collapsed": true
   },
   "outputs": [],
   "source": []
  }
 ],
 "metadata": {
  "anaconda-cloud": {},
  "kernelspec": {
   "display_name": "Python [default]",
   "language": "python",
   "name": "python2"
  },
  "language_info": {
   "codemirror_mode": {
    "name": "ipython",
    "version": 2
   },
   "file_extension": ".py",
   "mimetype": "text/x-python",
   "name": "python",
   "nbconvert_exporter": "python",
   "pygments_lexer": "ipython2",
   "version": "2.7.12"
  }
 },
 "nbformat": 4,
 "nbformat_minor": 1
}
