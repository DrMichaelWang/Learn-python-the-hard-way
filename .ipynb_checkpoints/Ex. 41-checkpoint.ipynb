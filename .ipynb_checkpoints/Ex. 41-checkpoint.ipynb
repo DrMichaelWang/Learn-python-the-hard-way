{
 "cells": [
  {
   "cell_type": "code",
   "execution_count": 1,
   "metadata": {
    "collapsed": true
   },
   "outputs": [],
   "source": [
    "import random\n",
    "from urllib import urlopen\n",
    "import sys\n",
    "\n",
    "WORD_URL = \"http://learncodethehardway.org/words.txt\"\n",
    "WORDS = []\n",
    "\n",
    "PHRASES = {\n",
    "    \"class %%%(%%%):\":\n",
    "      \"Make a class named %%% that is-a %%%.\",\n",
    "    \"class %%%(object):\\n\\tdef __init__(self, ***)\" :\n",
    "      \"class %%% has-a __init__ that takes self and *** parameters.\",\n",
    "    \"class %%%(object):\\n\\tdef ***(self, @@@)\":\n",
    "      \"class %%% has-a function named *** that takes self and @@@ parameters.\",\n",
    "    \"*** = %%%()\":\n",
    "      \"Set *** to an instance of class %%%.\",\n",
    "    \"***.***(@@@)\":\n",
    "      \"From *** get the *** function, and call it with parameters self, @@@.\",\n",
    "    \"***.*** = '***' \":\n",
    "      \"From *** get the *** attribute and set it to '***'. \"\n",
    "}"
   ]
  },
  {
   "cell_type": "code",
   "execution_count": 2,
   "metadata": {
    "collapsed": false
   },
   "outputs": [
    {
     "data": {
      "text/plain": [
       "{'*** = %%%()': 'Set *** to an instance of class %%%.',\n",
       " \"***.*** = '***' \": \"From *** get the *** attribute and set it to '***'. \",\n",
       " '***.***(@@@)': 'From *** get the *** function, and call it with parameters self, @@@.',\n",
       " 'class %%%(%%%):': 'Make a class named %%% that is-a %%%.',\n",
       " 'class %%%(object):\\n\\tdef ***(self, @@@)': 'class %%% has-a function named *** that takes self and @@@ parameters.',\n",
       " 'class %%%(object):\\n\\tdef __init__(self, ***)': 'class %%% has-a __init__ that takes self and *** parameters.'}"
      ]
     },
     "execution_count": 2,
     "metadata": {},
     "output_type": "execute_result"
    }
   ],
   "source": [
    "PHRASES"
   ]
  },
  {
   "cell_type": "code",
   "execution_count": 3,
   "metadata": {
    "collapsed": true
   },
   "outputs": [],
   "source": [
    "# do they want to drill phrases first\n",
    "PHRASE_FIRST = False\n",
    "if len(sys.argv) == 2 and sys.argv[1] == \"english\":\n",
    "    PHRASE_FIRST = True\n",
    "    \n",
    "# load up the words from the website\n",
    "for word in urlopen(WORD_URL).readlines():\n",
    "    WORDS.append(word.strip())\n",
    "    \n"
   ]
  },
  {
   "cell_type": "code",
   "execution_count": 4,
   "metadata": {
    "collapsed": true
   },
   "outputs": [],
   "source": [
    "def convert(snippet, phrase):\n",
    "    class_names = [w.capitalize() for w in \n",
    "                  random.sample(WORDS, snippet.count(\"%%%\"))]\n",
    "    other_names = random.sample(WORDS, snippet.count(\"***\"))\n",
    "    results = []\n",
    "    param_names = []\n",
    "    \n",
    "    for i in range(0, snippet.count(\"@@@\")):\n",
    "        param_count = random.randint(1,3)\n",
    "        param_names.append(',  '.join(random.sample(WORDS, param_count)))\n",
    "        \n",
    "    for sentence in snippet, phrase:\n",
    "        result = sentence[:]\n",
    "        \n",
    "        # fake class names\n",
    "        \n",
    "        for word in class_names:\n",
    "            result = result.replace(\"%%%\", word, 1)\n",
    "            \n",
    "        # fake other names\n",
    "        for word in other_names:\n",
    "            result = result.replace(\"***\", word, 1)\n",
    "            \n",
    "        # fake parameter lists\n",
    "        for word in param_names:\n",
    "            result = result.replace(\"@@@\", word, 1)\n",
    "            \n",
    "        results.append(result)\n",
    "        \n",
    "    return results\n",
    "\n",
    "\n",
    "        \n",
    "    "
   ]
  },
  {
   "cell_type": "code",
   "execution_count": 5,
   "metadata": {
    "collapsed": false
   },
   "outputs": [
    {
     "name": "stdout",
     "output_type": "stream",
     "text": [
      "crack.cushion(desk)\n",
      "> fe\n",
      "ANSWER:  From crack get the cushion function, and call it with parameters self, desk.\n",
      "\n",
      "\n",
      "class Comfort(Bead):\n",
      "> gtar\n",
      "ANSWER:  Make a class named Comfort that is-a Bead.\n",
      "\n",
      "\n",
      "class Brake(object):\n",
      "\tdef boat(self, distribution,  copper,  blow)\n",
      "> gar\n",
      "ANSWER:  class Brake has-a function named boat that takes self and distribution,  copper,  blow parameters.\n",
      "\n",
      "\n",
      "apparatus.canvas = 'donkey' \n",
      "> rre\n",
      "ANSWER:  From apparatus get the canvas attribute and set it to 'donkey'. \n",
      "\n",
      "\n",
      "carpenter = Beef()\n",
      "> crear\n",
      "ANSWER:  Set carpenter to an instance of class Beef.\n",
      "\n",
      "\n",
      "class Blade(object):\n",
      "\tdef __init__(self, beetle)\n",
      "> craer\n",
      "ANSWER:  class Blade has-a __init__ that takes self and beetle parameters.\n",
      "\n",
      "\n",
      "class Committee(object):\n",
      "\tdef __init__(self, copy)\n",
      "> t\n",
      "ANSWER:  class Committee has-a __init__ that takes self and copy parameters.\n",
      "\n",
      "\n",
      "bone.decision(attention,  cherry)\n",
      "> cre\n",
      "ANSWER:  From bone get the decision function, and call it with parameters self, attention,  cherry.\n",
      "\n",
      "\n",
      "class Donkey(object):\n",
      "\tdef debt(self, channel)\n",
      "> tere\n",
      "ANSWER:  class Donkey has-a function named debt that takes self and channel parameters.\n",
      "\n",
      "\n",
      "camera = Band()\n",
      "> rea\n",
      "ANSWER:  Set camera to an instance of class Band.\n",
      "\n",
      "\n",
      "class Achiever(Birth):\n",
      "> exit\n",
      "ANSWER:  Make a class named Achiever that is-a Birth.\n",
      "\n",
      "\n",
      "arithmetic.beetle = 'apparel' \n",
      "> exit\n"
     ]
    },
    {
     "ename": "KeyboardInterrupt",
     "evalue": "",
     "output_type": "error",
     "traceback": [
      "\u001b[0;31m---------------------------------------------------------------------------\u001b[0m",
      "\u001b[0;31mKeyboardInterrupt\u001b[0m                         Traceback (most recent call last)",
      "\u001b[0;32m<ipython-input-5-28e183f38760>\u001b[0m in \u001b[0;36m<module>\u001b[0;34m()\u001b[0m\n\u001b[1;32m     13\u001b[0m             \u001b[1;32mprint\u001b[0m \u001b[0mquestion\u001b[0m\u001b[1;33m\u001b[0m\u001b[0m\n\u001b[1;32m     14\u001b[0m \u001b[1;33m\u001b[0m\u001b[0m\n\u001b[0;32m---> 15\u001b[0;31m             \u001b[0mraw_input\u001b[0m\u001b[1;33m(\u001b[0m\u001b[1;34m\"> \"\u001b[0m\u001b[1;33m)\u001b[0m\u001b[1;33m\u001b[0m\u001b[0m\n\u001b[0m\u001b[1;32m     16\u001b[0m             \u001b[1;32mprint\u001b[0m \u001b[1;34m\"ANSWER:  %s\\n\\n\"\u001b[0m \u001b[1;33m%\u001b[0m \u001b[0manswer\u001b[0m\u001b[1;33m\u001b[0m\u001b[0m\n\u001b[1;32m     17\u001b[0m \u001b[1;32mexcept\u001b[0m \u001b[0mEOFError\u001b[0m\u001b[1;33m:\u001b[0m\u001b[1;33m\u001b[0m\u001b[0m\n",
      "\u001b[0;32mC:\\Users\\Shibo Wang\\Anaconda2\\lib\\site-packages\\ipykernel\\kernelbase.pyc\u001b[0m in \u001b[0;36mraw_input\u001b[0;34m(self, prompt)\u001b[0m\n\u001b[1;32m    688\u001b[0m             \u001b[0mself\u001b[0m\u001b[1;33m.\u001b[0m\u001b[0m_parent_ident\u001b[0m\u001b[1;33m,\u001b[0m\u001b[1;33m\u001b[0m\u001b[0m\n\u001b[1;32m    689\u001b[0m             \u001b[0mself\u001b[0m\u001b[1;33m.\u001b[0m\u001b[0m_parent_header\u001b[0m\u001b[1;33m,\u001b[0m\u001b[1;33m\u001b[0m\u001b[0m\n\u001b[0;32m--> 690\u001b[0;31m             \u001b[0mpassword\u001b[0m\u001b[1;33m=\u001b[0m\u001b[0mFalse\u001b[0m\u001b[1;33m,\u001b[0m\u001b[1;33m\u001b[0m\u001b[0m\n\u001b[0m\u001b[1;32m    691\u001b[0m         )\n\u001b[1;32m    692\u001b[0m \u001b[1;33m\u001b[0m\u001b[0m\n",
      "\u001b[0;32mC:\\Users\\Shibo Wang\\Anaconda2\\lib\\site-packages\\ipykernel\\kernelbase.pyc\u001b[0m in \u001b[0;36m_input_request\u001b[0;34m(self, prompt, ident, parent, password)\u001b[0m\n\u001b[1;32m    718\u001b[0m             \u001b[1;32mexcept\u001b[0m \u001b[0mKeyboardInterrupt\u001b[0m\u001b[1;33m:\u001b[0m\u001b[1;33m\u001b[0m\u001b[0m\n\u001b[1;32m    719\u001b[0m                 \u001b[1;31m# re-raise KeyboardInterrupt, to truncate traceback\u001b[0m\u001b[1;33m\u001b[0m\u001b[1;33m\u001b[0m\u001b[0m\n\u001b[0;32m--> 720\u001b[0;31m                 \u001b[1;32mraise\u001b[0m \u001b[0mKeyboardInterrupt\u001b[0m\u001b[1;33m\u001b[0m\u001b[0m\n\u001b[0m\u001b[1;32m    721\u001b[0m             \u001b[1;32melse\u001b[0m\u001b[1;33m:\u001b[0m\u001b[1;33m\u001b[0m\u001b[0m\n\u001b[1;32m    722\u001b[0m                 \u001b[1;32mbreak\u001b[0m\u001b[1;33m\u001b[0m\u001b[0m\n",
      "\u001b[0;31mKeyboardInterrupt\u001b[0m: "
     ]
    }
   ],
   "source": [
    "# keep going until they hit CTRL-D\n",
    "try:\n",
    "    while True:\n",
    "        snippets = PHRASES.keys()\n",
    "        random.shuffle(snippets)\n",
    "        \n",
    "        for snippet in snippets:\n",
    "            phrase = PHRASES[snippet]\n",
    "            question, answer = convert(snippet, phrase)\n",
    "            if PHRASE_FIRST:\n",
    "                question, answer = answer, question\n",
    "                \n",
    "            print question\n",
    "            \n",
    "            raw_input(\"> \")\n",
    "            print \"ANSWER:  %s\\n\\n\" % answer\n",
    "except EOFError:\n",
    "    print \"\\nBye\""
   ]
  },
  {
   "cell_type": "code",
   "execution_count": 6,
   "metadata": {
    "collapsed": false
   },
   "outputs": [
    {
     "data": {
      "text/plain": [
       "'name'"
      ]
     },
     "execution_count": 6,
     "metadata": {},
     "output_type": "execute_result"
    }
   ],
   "source": [
    "'name'.strip()"
   ]
  },
  {
   "cell_type": "code",
   "execution_count": 7,
   "metadata": {
    "collapsed": true
   },
   "outputs": [],
   "source": [
    "old_list = [1,2,3,4]"
   ]
  },
  {
   "cell_type": "code",
   "execution_count": 8,
   "metadata": {
    "collapsed": true
   },
   "outputs": [],
   "source": [
    "new_list = old_list[:]"
   ]
  },
  {
   "cell_type": "code",
   "execution_count": 9,
   "metadata": {
    "collapsed": false
   },
   "outputs": [
    {
     "data": {
      "text/plain": [
       "[1, 2, 3, 4]"
      ]
     },
     "execution_count": 9,
     "metadata": {},
     "output_type": "execute_result"
    }
   ],
   "source": [
    "new_list"
   ]
  },
  {
   "cell_type": "code",
   "execution_count": 11,
   "metadata": {
    "collapsed": true
   },
   "outputs": [],
   "source": [
    "new_list2 = old_list"
   ]
  },
  {
   "cell_type": "code",
   "execution_count": 12,
   "metadata": {
    "collapsed": false
   },
   "outputs": [
    {
     "data": {
      "text/plain": [
       "[1, 2, 3, 4]"
      ]
     },
     "execution_count": 12,
     "metadata": {},
     "output_type": "execute_result"
    }
   ],
   "source": [
    "new_list2"
   ]
  },
  {
   "cell_type": "code",
   "execution_count": null,
   "metadata": {
    "collapsed": true
   },
   "outputs": [],
   "source": []
  }
 ],
 "metadata": {
  "kernelspec": {
   "display_name": "Python [default]",
   "language": "python",
   "name": "python2"
  },
  "language_info": {
   "codemirror_mode": {
    "name": "ipython",
    "version": 2
   },
   "file_extension": ".py",
   "mimetype": "text/x-python",
   "name": "python",
   "nbconvert_exporter": "python",
   "pygments_lexer": "ipython2",
   "version": "2.7.12"
  }
 },
 "nbformat": 4,
 "nbformat_minor": 1
}
