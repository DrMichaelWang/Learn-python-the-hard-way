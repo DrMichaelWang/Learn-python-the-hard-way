{
 "cells": [
  {
   "cell_type": "code",
   "execution_count": 1,
   "metadata": {
    "collapsed": true
   },
   "outputs": [],
   "source": [
    "from sys import argv"
   ]
  },
  {
   "cell_type": "code",
   "execution_count": null,
   "metadata": {
    "collapsed": true
   },
   "outputs": [],
   "source": [
    "script, filename = argv\n",
    "\n",
    "print \"We're going to erase %r.\" % filename\n",
    "print \"If you don't want that, hit CTRL-C (^C).\"\n",
    "print \"If you do want that, hit RETURN.\"\n",
    "\n",
    "raw_input(\"?\")\n",
    "\n",
    "print \"Opening the file...\"\n",
    "target = open(filename, 'w')\n",
    "\n",
    "print \"Truncating the file. Goodbye!\"\n",
    "target.truncate()\n",
    "\n",
    "print \"Now I'm going to ask you for three lines.\"\n",
    "\n",
    "line1 = raw_input(\"line 1: \")\n",
    "line2 = raw_input(\"line 2: \")\n",
    "line3 = raw_input(\"line 3: \")\n",
    "\n",
    "print \"I'm going to write these to the file.\"\n",
    "\n",
    "target.write(line1)\n",
    "target.write(\"\\n\")\n",
    "\n",
    "target.write(line2)\n",
    "target.write(\"\\n\")\n",
    "\n",
    "target.write(line3)\n",
    "target.write(\"\\n\")\n",
    "\n",
    "print \"And finally, we close it.\"\n",
    "target.cloase()"
   ]
  }
 ],
 "metadata": {
  "kernelspec": {
   "display_name": "Python [default]",
   "language": "python",
   "name": "python2"
  },
  "language_info": {
   "codemirror_mode": {
    "name": "ipython",
    "version": 2
   },
   "file_extension": ".py",
   "mimetype": "text/x-python",
   "name": "python",
   "nbconvert_exporter": "python",
   "pygments_lexer": "ipython2",
   "version": "2.7.12"
  }
 },
 "nbformat": 4,
 "nbformat_minor": 1
}
