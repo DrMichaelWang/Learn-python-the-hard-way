{
 "cells": [
  {
   "cell_type": "code",
   "execution_count": 1,
   "metadata": {
    "collapsed": true
   },
   "outputs": [],
   "source": [
    "# Animal is-a object (yes, sort of confusing) look at the extra credit\n",
    "class Animal(object):\n",
    "    pass\n",
    "\n",
    "# Make a class Dog that is-a Animal class:\n",
    "class Dog(Animal):\n",
    "    \n",
    "    def __init__(self, name):\n",
    "        ## Dog class has a function __init__\n",
    "        self.name = name\n",
    "        \n",
    "# Make a class Cat that is-a Animal class:\n",
    "class Cat(Animal):\n",
    "    \n",
    "    def __init__(self, name):\n",
    "        ## Cat class has a function __init__\n",
    "        self.name = name\n",
    "        \n",
    "# Make a Person class\n",
    "class Person(object):\n",
    "    \n",
    "    def __init__(self, name):\n",
    "        ## Person has-a __init__ function\n",
    "        self.name = name\n",
    "        \n",
    "        ## Person has-a pet of some kind\n",
    "        self.pet = None\n",
    "        \n",
    "## Make an Employee class which is-a Person class\n",
    "class Employee(Person):\n",
    "    \n",
    "    def __init__(self, name, salary):\n",
    "        ## the function has self, name, salary parameters\n",
    "        super(Employee, self).__init__(name)\n",
    "        self.salary = salary\n",
    "        \n",
    "## make a class Fish\n",
    "class Fish(object):\n",
    "    pass\n",
    "\n",
    "## make a Salmon class which is-a Fish class\n",
    "class Salmon(Fish):\n",
    "    pass\n",
    "\n",
    "## make a Halibut class which is-a Fish class\n",
    "class Halibut(Fish):\n",
    "    pass\n",
    "\n",
    "## rover is-a Dog\n",
    "rover = Dog(\"Rover\")\n",
    "\n",
    "## satan is-a Cat\n",
    "satan = Cat(\"Satan\")\n",
    "\n",
    "## mary is-a Person\n",
    "mary = Person(\"Mary\")\n",
    "\n",
    "# mary has-a pet satan\n",
    "mary.pet = satan\n",
    "\n",
    "## frank is-a Employee\n",
    "frank = Employee(\"Frank\", 120000)\n",
    "\n",
    "## frank has-a pet rover\n",
    "frank.pet = rover\n",
    "\n",
    "## flipper is-a fish\n",
    "flipper = Fish()\n",
    "\n",
    "## crouse is-a Salmon\n",
    "crouse = Salmon()\n",
    "\n",
    "## harry is-a Halibut\n",
    "harry = Halibut()\n",
    "\n"
   ]
  },
  {
   "cell_type": "code",
   "execution_count": null,
   "metadata": {
    "collapsed": true
   },
   "outputs": [],
   "source": []
  }
 ],
 "metadata": {
  "kernelspec": {
   "display_name": "Python [default]",
   "language": "python",
   "name": "python2"
  },
  "language_info": {
   "codemirror_mode": {
    "name": "ipython",
    "version": 2
   },
   "file_extension": ".py",
   "mimetype": "text/x-python",
   "name": "python",
   "nbconvert_exporter": "python",
   "pygments_lexer": "ipython2",
   "version": "2.7.12"
  }
 },
 "nbformat": 4,
 "nbformat_minor": 1
}
