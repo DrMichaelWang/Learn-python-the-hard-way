{
 "cells": [
  {
   "cell_type": "code",
   "execution_count": 1,
   "metadata": {
    "collapsed": true
   },
   "outputs": [],
   "source": [
    "people = 30\n",
    "cars = 40\n",
    "buses = 15"
   ]
  },
  {
   "cell_type": "code",
   "execution_count": 2,
   "metadata": {
    "collapsed": false
   },
   "outputs": [
    {
     "name": "stdout",
     "output_type": "stream",
     "text": [
      "We should take the cars.\n",
      "Maybe we could take the buses.\n",
      "Alright, let's just take the buses.\n"
     ]
    }
   ],
   "source": [
    "if cars > people:\n",
    "    print \"We should take the cars.\"\n",
    "elif cars < people:\n",
    "    print \"We should not take the cars.\"\n",
    "    \n",
    "if buses > cars:\n",
    "    print \"That's too many buses.\"\n",
    "elif buses < cars:\n",
    "    print \"Maybe we could take the buses.\"\n",
    "else:\n",
    "    print \"We still can't decide.\"\n",
    "    \n",
    "if people > buses:\n",
    "    print \"Alright, let's just take the buses.\"\n",
    "else:\n",
    "    print \"Fine, let's stay home then.\""
   ]
  },
  {
   "cell_type": "code",
   "execution_count": null,
   "metadata": {
    "collapsed": true
   },
   "outputs": [],
   "source": []
  }
 ],
 "metadata": {
  "kernelspec": {
   "display_name": "Python [default]",
   "language": "python",
   "name": "python2"
  },
  "language_info": {
   "codemirror_mode": {
    "name": "ipython",
    "version": 2
   },
   "file_extension": ".py",
   "mimetype": "text/x-python",
   "name": "python",
   "nbconvert_exporter": "python",
   "pygments_lexer": "ipython2",
   "version": "2.7.12"
  }
 },
 "nbformat": 4,
 "nbformat_minor": 1
}
